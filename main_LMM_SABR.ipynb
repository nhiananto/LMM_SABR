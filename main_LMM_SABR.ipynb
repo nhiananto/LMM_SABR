{
 "cells": [
  {
   "cell_type": "markdown",
   "metadata": {},
   "source": [
    "# LMM SABR\n",
    "Requires:\n",
    "- Fwd-fwd corr (forward_curve_corr)\n",
    "- Vol-Vol corr (caplet_fitting)\n",
    "- Fwd-Vol corr (forward_curve_corr)\n",
    "- Current Fwd Curve (F_0) (caplet_fitting)\n",
    "- correction terms for volatility (caplet_fitting)\n",
    "- correction terms for vol-vol (caplet_fitting)\n",
    "- g(T-t) parameters for volatility parametric function fit (caplet_fitting)\n",
    "- h(T-t) parameters for vol-vol parametric function fit (caplet_fitting)"
   ]
  },
  {
   "cell_type": "code",
   "execution_count": 63,
   "metadata": {},
   "outputs": [],
   "source": [
    "#load libraries\n",
    "import math\n",
    "import numpy as np\n",
    "import warnings\n",
    "import pandas as pd\n",
    "import pickle\n",
    "import os\n",
    "import matplotlib.pyplot as plt\n",
    "from matplotlib import cm"
   ]
  },
  {
   "cell_type": "code",
   "execution_count": 19,
   "metadata": {},
   "outputs": [],
   "source": [
    "def load_object(filename):\n",
    "    with open(filename, 'rb') as file:\n",
    "        return pickle.load(file)"
   ]
  },
  {
   "cell_type": "code",
   "execution_count": 37,
   "metadata": {},
   "outputs": [],
   "source": [
    "path_params = os.path.join(os.getcwd(), \"parameters\")\n",
    "path_results = os.path.join(os.getcwd(), \"simulation_results\")\n",
    "\n",
    "\n",
    "forwards = load_object(path_params+\"\\\\spot_forwards.pkl\")\n",
    "s0_exp = load_object(path_params+\"\\\\vol_initial_correction.pkl\")\n",
    "epsilon_exp = load_object(path_params+\"\\\\volvol_initial_correction.pkl\")\n",
    "doust_fwd_fwd = load_object(path_params+\"\\\\fwdfwd_corr.pkl\")\n",
    "doust_vol_vol = load_object(path_params+\"\\\\volvol_corr.pkl\")\n",
    "corr_fwd_vol = load_object(path_params+\"\\\\fwdvol_corr.pkl\")\n",
    "params_g = load_object(path_params+\"\\\\vol_params_g.pkl\")\n",
    "params_h= load_object(path_params+\"\\\\volvol_params_h.pkl\")\n",
    "spots= load_object(path_params+\"\\\\spot_rates.pkl\")\n",
    "\n",
    "caplet_vol_mat= load_object(path_params+\"\\\\caplet_vol_mat.pkl\")\n",
    "caplet_strike_mat= load_object(path_params+\"\\\\caplet_strike_mat.pkl\")\n"
   ]
  },
  {
   "cell_type": "code",
   "execution_count": 38,
   "metadata": {},
   "outputs": [],
   "source": [
    "# load caplets price data for comparison\n",
    "with open(os.path.join(os.getcwd(), \"raw_dataset\", \"caplet_raw.xlsx\"), 'rb') as file:\n",
    "    raw_caplet_mkt_prc = pd.read_excel(file, sheet_name = 3, header = 0)\n",
    "\n",
    "caplet_mkt_prc_mat = np.array(raw_caplet_mkt_prc.iloc[:, :8])"
   ]
  },
  {
   "cell_type": "code",
   "execution_count": 39,
   "metadata": {},
   "outputs": [],
   "source": [
    "#reduce ranking\n",
    "def reduceRank(corr_matrix , no_of_factors):\n",
    "    '''\n",
    "    reduce rank eigenvalue zeroing technique.\n",
    "    @var corr_matrix: input correlation matrix\n",
    "    containing the forward -forward correlations\n",
    "    @var no_of_factors: number of factors that we want to employ\n",
    "    '''\n",
    "    B = None\n",
    "    reduced_cov_matrix = None\n",
    "    reduced_corr_matrix = np.zeros_like(corr_matrix)\n",
    "    Q, lambda_ , Q_inv = np.linalg.svd( corr_matrix)\n",
    "    H = np.zeros (( corr_matrix.shape [0], no_of_factors ))\n",
    "    for i in range(no_of_factors ):\n",
    "        H[i,i] = np.sqrt(lambda_[i])\n",
    "    B = Q.dot(H)\n",
    "    reduced_cov_matrix = B.dot(B.T)\n",
    "    # Transform the covariance matrix into a correlation # matrix\n",
    "    for i in range(corr_matrix.shape [0]):\n",
    "        for j in range(corr_matrix.shape [0]):\n",
    "                reduced_corr_matrix[i,j] = (reduced_cov_matrix[i,j]/\\\n",
    "                (np.sqrt( reduced_cov_matrix[i,i] * \\\n",
    "                reduced_cov_matrix[j,j])))\n",
    "    return B, reduced_corr_matrix\n"
   ]
  },
  {
   "cell_type": "code",
   "execution_count": 40,
   "metadata": {},
   "outputs": [],
   "source": [
    "def drawRandomNumbers (no_of_factors , cholesky):\n",
    "    '''\n",
    "    Draw a set of random numbers.\n",
    "    @var no_of_factors: number of factors that we want\n",
    "    to employ.\n",
    "    @var cholesky: Cholesky decomposition of the\n",
    "    correlation matrix describing the correlation\n",
    "    among the random variables to simulate.\n",
    "    '''\n",
    "    if no_of_factors > 1:\n",
    "        rand = np.random.normal(size = no_of_factors)\n",
    "        return cholesky.dot(rand)\n",
    "    else:\n",
    "        return np.random.normal ()\n",
    "\n",
    "\n",
    "def getInstantaneousVolatility(t, expiry , params):\n",
    "    '''\n",
    "    Return the instantaneous volatility ,\n",
    "    computed in terms of the parametric\n",
    "    form proposed by Rebonato , at a given time t.\n",
    "    @var t: time at which we want to compute the\n",
    "    instantaneous volatility (in years)\n",
    "    @var expiry: caplet expiry (in years)\n",
    "    @var a: parameter a of Rebonato ’s instant. vol. function\n",
    "    @var b: parameter b of Rebonato ’s instant. vol. function\n",
    "    @var c: parameter c of Rebonato ’s instant. vol. function\n",
    "    @var d: parameter d of Rebonato ’s instant. vol. function\n",
    "    \n",
    "    #g(T - t) & h(T - t)\n",
    "    '''\n",
    "    a,b,c,d = params\n",
    "    tau = expiry - t\n",
    "    instantaneous_vol = (a + b * tau) * np.exp(-c * tau) + d\n",
    "    return instantaneous_vol"
   ]
  },
  {
   "cell_type": "code",
   "execution_count": 41,
   "metadata": {},
   "outputs": [],
   "source": [
    "\n",
    "# =============================================================================\n",
    "# under Terminal Measure Q^N\n",
    "# =============================================================================\n",
    "\n",
    "\n",
    "def simulateSABRLMM(no_of_sim , steps_per_year,\n",
    "    fixing_time_grid , F_0 , s_0 , epsilon , corr_fwd_fwd_full_rank ,\n",
    "    corr_vol_vol_full_rank, corr_fwd_vol, no_of_factors , beta , tau ,\n",
    "    params_g, params_h, seed = 123):\n",
    "    '''\n",
    "    Monte Carlo SABR LMM using Euler scheme.\n",
    "    @var no_of_sim : Monte Carlo paths\n",
    "    @var no_of_steps : discretization steps required\n",
    "    to reach the option expiry date\n",
    "    @var fixing_time_grid : list containing the forward fixing times (start at 0.5)\n",
    "    @var F_0: list of forward rate values at time t=0\n",
    "    @var s_0: list of correction terms s\n",
    "    @var epsilon: list of correction terms epsilon\n",
    "    @var corr_fwd_fwd_full_rank : forward -forward full rank\n",
    "    correlation matrix\n",
    "    @var corr_vol_vol_full_rank : volatility - Volatility\n",
    "    full rank correlation matrix\n",
    "    @var no_of_factors : number of factors which we want\n",
    "    to use in the simulation\n",
    "    @var beta : List of beta values\n",
    "    @var tau: forward rate rolling period (in years)\n",
    "    @var a_g: parameter a of the g function\n",
    "    @var b_g: parameter b of the g function\n",
    "    @var c_g: parameter c of the g function\n",
    "    @var d_g: parameter d of the g function\n",
    "    @var a_h: parameter a of the h function\n",
    "    @var b_h: parameter b of the h function\n",
    "    @var c_h: parameter c of the h function\n",
    "    @var d_h: parameter d of the h function\n",
    "    '''\n",
    "    np.random.seed(seed)\n",
    "    \n",
    "    no_of_fwds = len(F_0)\n",
    "    \n",
    "    # Get the Cholesky decomposition as well as the reduced\n",
    "    # rank matrix from the full rank forward - forward\n",
    "    # correlation matrix\n",
    "    cholesky_fwd_fwd , corr_fwd_fwd = reduceRank (corr_fwd_fwd_full_rank ,\n",
    "                                                  no_of_factors )\n",
    "    \n",
    "    # Get the Cholesky decomposition as well as the reduced\n",
    "    # rank matrix from the full rank volatility - volatility\n",
    "    # correlation matrix\n",
    "    cholesky_vol_vol , corr_vol_vol = reduceRank (corr_vol_vol_full_rank,\n",
    "                                                  no_of_factors )\n",
    "    \n",
    "    # Initialize variables\n",
    "    F_t = np.array([0.0] * no_of_fwds)\n",
    "    alpha_t = np.array([0.0] * no_of_fwds)\n",
    "    s_t = np.array([1.0] * no_of_fwds)\n",
    "    ds_t = np.array([0.0] * no_of_fwds)\n",
    "    \n",
    "    # Get the last LIBOR FIXING time.\n",
    "    # It is the next to last element stored in the time grid\n",
    "    last_fixing = fixing_time_grid[-1]\n",
    "    \n",
    "    \n",
    "    sim_forwards = np.zeros((no_of_fwds, len(fixing_time_grid)+1, no_of_sim))\n",
    "    sim_forwards[:, 0, :] = np.array(F_0).reshape(-1, 1)\n",
    "    \n",
    "    #no_of_steps\n",
    "    no_of_steps = steps_per_year * last_fixing\n",
    "    \n",
    "    # Step length in years\n",
    "    dt = last_fixing / float( no_of_steps )\n",
    "    dt_sqrt = math.sqrt(dt)\n",
    "    \n",
    "    for no_sim in range(no_of_sim):\n",
    "        \n",
    "        t = 0\n",
    "        no_step = 1\n",
    "        \n",
    "        \n",
    "        for fwd_k in range(0, no_of_fwds ):\n",
    "            s_t[fwd_k] = s_0[fwd_k]\n",
    "            F_t[fwd_k] = F_0[fwd_k]\n",
    "            ds_t [fwd_k] = 0.0\n",
    "            \n",
    "        # Simulate the processes along the steps till final fixing time along a path\n",
    "        while no_step <= no_of_steps :\n",
    "            # The t variable will be used to get the parametric\n",
    "            # vol. and vol. of vol. corresponding to the\n",
    "            # time step being simulated\n",
    "\n",
    "            t = no_step * dt\n",
    "            # Generate the correlated Brownian motions used to\n",
    "            # simulate dF and ds\n",
    "            dW_F = drawRandomNumbers (no_of_factors ,\n",
    "            cholesky_fwd_fwd ) * dt_sqrt\n",
    "            \n",
    "            #brownian motion of ds\n",
    "            dW_s = drawRandomNumbers (no_of_factors ,\n",
    "            cholesky_vol_vol ) * dt_sqrt\n",
    "            \n",
    "            #initialize\n",
    "            drift_F = 0.0\n",
    "            shared_drift_part = np.zeros(no_of_fwds)\n",
    "            drift_correction = np.zeros(no_of_fwds)\n",
    "            \n",
    "            # Simulate each forward rate , starting from the last one\n",
    "            for i in range(1, no_of_fwds+1): \n",
    "                fwd_k = no_of_fwds - i #first forward never runs\n",
    "                \n",
    "                # The simulation is run only for forward rates which are still alive\n",
    "                # maturity_grid [fwd_k - 1] == last fixing time\n",
    "                \n",
    "                if t < fixing_time_grid[fwd_k]:\n",
    "                    g_t = getInstantaneousVolatility (t, \\\n",
    "                    fixing_time_grid[fwd_k], params_g)\n",
    "                    \n",
    "                    # g_t = np.sqrt( instant_vol_sq_poly (t, \\\n",
    "                    # maturity_grid [fwd_k - 1], params_g) )\n",
    "                    \n",
    "                    h_t = getInstantaneousVolatility(t, \\\n",
    "                    fixing_time_grid[fwd_k], params_h)\n",
    "                        \n",
    "                    # h_t = np.sqrt( instant_vol_sq_poly (t, \\\n",
    "                    # maturity_grid [fwd_k - 1], params_h) )\n",
    "                        \n",
    "                        \n",
    "                    F_beta_t = math.pow(abs(F_t[fwd_k]), beta[fwd_k]) #F^beta for fwd_k\n",
    "                    \n",
    "                    ##drift of correction term s\n",
    "                    drift_s = corr_fwd_vol[fwd_k, fwd_k] * h_t * s_t[fwd_k] * \\\n",
    "                                shared_drift_part[fwd_k]\n",
    "                    \n",
    "                    ds_t [fwd_k] = drift_s * dt + (h_t * epsilon[fwd_k] *\n",
    "                    s_t[fwd_k] * dW_s [fwd_k])\n",
    "                    \n",
    "                    s_t[fwd_k] += ds_t [fwd_k]\n",
    "                    \n",
    "                    alpha_t[fwd_k] = g_t * s_t[fwd_k]\n",
    "                    \n",
    "                    # Zero absorbing boundary used for all the\n",
    "                    # beta choices except beta = 0 and beta = 1\n",
    "                    if (( beta [fwd_k] > 0 and beta [fwd_k] < 1)\n",
    "                        and (F_t[fwd_k] <= 0)):\n",
    "                        F_t[fwd_k] = 0.0\n",
    "                    \n",
    "                    else:\n",
    "                        drift_F = (-g_t * s_t[fwd_k] * F_beta_t *\n",
    "                        shared_drift_part[fwd_k])\n",
    "                        \n",
    "                        F_t[fwd_k] += (drift_F * dt +\n",
    "                        alpha_t[fwd_k] *\n",
    "                        F_beta_t * dW_F [fwd_k])\n",
    "                        \n",
    "                        \n",
    "                        drift_correction[fwd_k - 1] = \\\n",
    "                        corr_fwd_fwd [fwd_k - 1, fwd_k] * (tau * \\\n",
    "                        g_t * s_t[fwd_k] * F_beta_t) / (1 + \\\n",
    "                        tau * F_t[fwd_k])\n",
    "                        \n",
    "                                                        \n",
    "                        # Calculate the drift sum term to be used by the next forward\n",
    "                        if fwd_k <= (no_of_fwds - 1):\n",
    "                            shared_drift_part [fwd_k - 1] += np.sum(drift_correction[(fwd_k - 1):])\n",
    "            \n",
    "            no_step += 1\n",
    "            # print(F_t[18])\n",
    "            #store the forwards for each fixing time/grid\n",
    "            # print(no_step)\n",
    "            if (no_step+1)% (steps_per_year/2) == 0.0:\n",
    "                   mature = int((no_step+1)/ (steps_per_year/2))\n",
    "                   # print(mature)\n",
    "                   sim_forwards[t <= fixing_time_grid, mature, no_sim] = F_t[t <= fixing_time_grid]\n",
    "               \n",
    "        # for fwd_k in range(0, no_of_fwds):\n",
    "        #     simulated_forwards[fwd_k ,no_sim] = F_t[fwd_k]\n",
    "\n",
    "    \n",
    "    return sim_forwards"
   ]
  },
  {
   "cell_type": "code",
   "execution_count": 42,
   "metadata": {},
   "outputs": [],
   "source": [
    "#define arguments to use for LMM SABR Simulation\n",
    "no_of_sim = 1000 #change this\n",
    "steps_per_year = 48\n",
    "F_0 = forwards #from caplet_fitting.py\n",
    "s_0 = s0_exp #from caplet_fitting.py\n",
    "epsilon = epsilon_exp #from caplet_fitting.py\n",
    "corr_fwd_fwd_full_rank = doust_fwd_fwd[:19, :19]\n",
    "corr_vol_vol_full_rank = doust_vol_vol[:19, :19]\n",
    "corr_fwd_vol = corr_fwd_vol #from caplet_fitting.py\n",
    "no_of_factors = 6 #correlation factors reduce rank\n",
    "beta = np.repeat(0, len(F_0))\n",
    "tau = 0.5 #semi-annual forwards\n",
    "fixing_time_grid = np.arange(1,20)/2"
   ]
  },
  {
   "cell_type": "markdown",
   "metadata": {},
   "source": [
    "### Simulate LMM SABR with the above parameters\n",
    "Takes a quite a bit of time to do \\\n",
    "1,000 paths ~ 5 mins"
   ]
  },
  {
   "cell_type": "code",
   "execution_count": 43,
   "metadata": {},
   "outputs": [],
   "source": [
    "'''\n",
    "simulated full fwd 20x20xpaths contains initial forward rates\n",
    "with first row and column containing instantaneous fwd/spot rate\n",
    "'''\n",
    "simulated_fwd_full = simulateSABRLMM (no_of_sim  = no_of_sim, steps_per_year = steps_per_year,\n",
    "                          fixing_time_grid = fixing_time_grid, F_0  = F_0, s_0  = s_0,\n",
    "                          epsilon =epsilon, corr_fwd_fwd_full_rank = corr_fwd_fwd_full_rank,\n",
    "                          corr_vol_vol_full_rank = corr_vol_vol_full_rank,\n",
    "                          corr_fwd_vol = corr_fwd_vol, no_of_factors = no_of_factors ,\n",
    "                          beta = beta, tau = tau, params_g = params_g, params_h = params_h)\n",
    "\n",
    "simulated_fwd_full = np.vstack((np.zeros((1,simulated_fwd_full.shape[1], simulated_fwd_full.shape[2])),\n",
    "                                simulated_fwd_full))\n",
    "\n",
    "simulated_fwd_full[0,0,:] = spots[0]\n"
   ]
  },
  {
   "cell_type": "code",
   "execution_count": 50,
   "metadata": {},
   "outputs": [
    {
     "data": {
      "text/plain": [
       "array([[0.0023178 , 0.        , 0.        , 0.        , 0.        ,\n",
       "        0.        , 0.        ],\n",
       "       [0.0024451 , 0.00291476, 0.        , 0.        , 0.        ,\n",
       "        0.        , 0.        ],\n",
       "       [0.0028982 , 0.00296872, 0.00380029, 0.        , 0.        ,\n",
       "        0.        , 0.        ],\n",
       "       [0.0030861 , 0.00427618, 0.00409398, 0.00400421, 0.        ,\n",
       "        0.        , 0.        ],\n",
       "       [0.004112  , 0.00536976, 0.00461825, 0.00418028, 0.00297111,\n",
       "        0.        , 0.        ],\n",
       "       [0.0046043 , 0.00541705, 0.00496204, 0.00464553, 0.00480222,\n",
       "        0.00498321, 0.        ],\n",
       "       [0.0065795 , 0.00756877, 0.00744585, 0.00682939, 0.00837904,\n",
       "        0.00819462, 0.00900627]])"
      ]
     },
     "execution_count": 50,
     "metadata": {},
     "output_type": "execute_result"
    }
   ],
   "source": [
    "#sample matrix for a single path\n",
    "simulated_fwd_full[:5, :5, 0]"
   ]
  },
  {
   "cell_type": "code",
   "execution_count": 51,
   "metadata": {},
   "outputs": [],
   "source": [
    "#convert to zero rates from simulated forward arrays\n",
    "def forwards_to_zeros(forwards, spot_fwd):\n",
    "    '''\n",
    "    forwards = vector of semiannual forward rates with 0.5 spaced grid \n",
    "                with starting fixing date 0.5\n",
    "    spot_fwd = 6mth spot fwd (short-rate)\n",
    "    '''\n",
    "    disc_bonds = np.array((1+spot_fwd/2)**(-1))\n",
    "    zeros = (1 + forwards/2)**(-1)*disc_bonds\n",
    "    zeros = np.hstack((disc_bonds, zeros))\n",
    "    \n",
    "    return(zeros)\n",
    "\n",
    "#20x20 discount prices including initial discount rates\n",
    "simulated_zeros_full = np.zeros_like(simulated_fwd_full)\n",
    "for j in range(simulated_fwd_full.shape[1]):\n",
    "    for k in range(simulated_fwd_full.shape[2]):\n",
    "        simulated_zeros_full[j:, j, k] = forwards_to_zeros(simulated_fwd_full[(j+1):, j, k],\n",
    "                                                          simulated_fwd_full[j, j, k])\n"
   ]
  },
  {
   "cell_type": "code",
   "execution_count": 52,
   "metadata": {},
   "outputs": [],
   "source": [
    "#caplet pricer from forward simulated forward matrix\n",
    "\n",
    "def european_caplet(full_fwd_mat, k, expiry):\n",
    "    '''\n",
    "    full_fwd_mat = 20x20xpaths fwd matrix including initial fwd\n",
    "    k = strike\n",
    "    #expiry = fixing time of reference rate/LIBOR in years(only accept semi-annuals)\n",
    "    #assume 0.5 day count\n",
    "    '''\n",
    "    \n",
    "    expiry = int(2*expiry)\n",
    "    cur_fwd = full_fwd_mat[:, 0, 0]\n",
    "    discount = forwards_to_zeros(cur_fwd[1:], cur_fwd[0])\n",
    "    \n",
    "    ref_rate = full_fwd_mat[expiry, expiry, :]\n",
    "    price = np.maximum(ref_rate - k, 0) * 0.5 * discount[expiry]\n",
    "    return(np.mean(price))"
   ]
  },
  {
   "cell_type": "markdown",
   "metadata": {},
   "source": [
    "### Get caplet prices from simulated forwards from LMM-SABR"
   ]
  },
  {
   "cell_type": "code",
   "execution_count": 58,
   "metadata": {},
   "outputs": [],
   "source": [
    "notional = 10000000 #10m\n",
    "sim_caplet_prices = np.zeros_like(caplet_vol_mat)\n",
    "for i in range(sim_caplet_prices.shape[0]):\n",
    "    for j in range(sim_caplet_prices.shape[1]):\n",
    "        sim_caplet_prices[i, j] = european_caplet(simulated_fwd_full,\n",
    "                                                  caplet_strike_mat[i, j], fixing_time_grid[i])*notional"
   ]
  },
  {
   "cell_type": "markdown",
   "metadata": {},
   "source": [
    "### Compare fit in notional amt"
   ]
  },
  {
   "cell_type": "code",
   "execution_count": 66,
   "metadata": {},
   "outputs": [
    {
     "data": {
      "text/plain": [
       "Text(0.5, 0.92, 'Caplet Price Surface LMM-SABR vs Market')"
      ]
     },
     "execution_count": 66,
     "metadata": {},
     "output_type": "execute_result"
    },
    {
     "data": {
      "image/png": "[encoded data removed]",
      "text/plain": [
       "<Figure size 432x288 with 1 Axes>"
      ]
     },
     "metadata": {
      "needs_background": "light"
     },
     "output_type": "display_data"
    }
   ],
   "source": [
    "#plot\n",
    "#Fit LMM SABR vs Market Prices excludeing ATM caplets in $100\n",
    "#ATM caplets located at the end of caplet strike mat column\n",
    "x_axs = np.tile(fixing_time_grid.reshape(-1,1), caplet_strike_mat[:, :-1].shape[1])\n",
    "fig = plt.figure()\n",
    "ax = fig.gca(projection='3d')\n",
    "ax.plot_surface(x_axs, caplet_strike_mat[:, :-1]*100, sim_caplet_prices[:, :-1]/10000, cmap = cm.gray, label = \"MC-LMM-SABR\")\n",
    "ax.plot_surface(x_axs, caplet_strike_mat[:, :-1]*100, caplet_mkt_prc_mat/10000,cmap = cm.viridis, label = \"Market\")\n",
    "ax.view_init(20, 240)\n",
    "ax.set_xlabel('Fixing Time')\n",
    "ax.set_ylabel('Strike %')\n",
    "ax.set_zlabel('Price ($100 notional)')\n",
    "ax.set_title('Caplet Price Surface LMM-SABR vs Market')"
   ]
  },
  {
   "cell_type": "markdown",
   "metadata": {},
   "source": [
    "Fit is ok except for short maturity caplets which we assume is due to data error."
   ]
  },
  {
   "cell_type": "code",
   "execution_count": 88,
   "metadata": {},
   "outputs": [
    {
     "data": {
      "text/plain": [
       "Text(0.5, 0.92, 'Caplet Price Surface LMM-SABR vs Market (% Difference)')"
      ]
     },
     "execution_count": 88,
     "metadata": {},
     "output_type": "execute_result"
    },
    {
     "data": {
      "image/png": "[encoded data removed]",
      "text/plain": [
       "<Figure size 432x288 with 1 Axes>"
      ]
     },
     "metadata": {
      "needs_background": "light"
     },
     "output_type": "display_data"
    }
   ],
   "source": [
    "#percentage difference\n",
    "diff = (sim_caplet_prices[:, :-1]/(caplet_mkt_prc_mat) - 1)*100 #in percentage\n",
    "\n",
    "x_axs = np.tile(fixing_time_grid.reshape(-1,1), caplet_strike_mat[:, :-1].shape[1])\n",
    "fig = plt.figure()\n",
    "ax = fig.gca(projection='3d')\n",
    "ax.plot_surface(x_axs, caplet_strike_mat[:, :-1]*100, diff, cmap = cm.viridis, label = \"MC-LMM-SABR\")\n",
    "ax.view_init(20, 240)\n",
    "ax.set_xlabel('Fixing Time')\n",
    "ax.set_ylabel('Strike %')\n",
    "ax.set_zlabel('% Difference')\n",
    "ax.set_title('Caplet Price Surface LMM-SABR vs Market (% Difference)')"
   ]
  },
  {
   "cell_type": "markdown",
   "metadata": {},
   "source": [
    "### Save results"
   ]
  },
  {
   "cell_type": "code",
   "execution_count": 100,
   "metadata": {},
   "outputs": [],
   "source": [
    "#wrapper function to run simulation and convert to zeros and save the simulated zeros paths\n",
    "#also returns the simulated zeros\n",
    "def simulate_paths(no_of_sim , steps_per_year,\n",
    "    fixing_time_grid , F_0 , s_0 , epsilon , corr_fwd_fwd_full_rank ,\n",
    "    corr_vol_vol_full_rank, corr_fwd_vol, no_of_factors , beta , tau ,\n",
    "    params_g, params_h, seed = 123, spot_rates = None, save_path = None):\n",
    "    \n",
    "    simulated_fwd_full = simulateSABRLMM (no_of_sim  = no_of_sim, steps_per_year = steps_per_year,\n",
    "                              fixing_time_grid = fixing_time_grid, F_0  = F_0, s_0  = s_0,\n",
    "                              epsilon =epsilon, corr_fwd_fwd_full_rank = corr_fwd_fwd_full_rank,\n",
    "                              corr_vol_vol_full_rank = corr_vol_vol_full_rank,\n",
    "                              corr_fwd_vol = corr_fwd_vol, no_of_factors = no_of_factors ,\n",
    "                              beta = beta, tau = tau, params_g = params_g, params_h = params_h, seed = seed)\n",
    "\n",
    "    simulated_fwd_full = np.vstack((np.zeros((1,simulated_fwd_full.shape[1], simulated_fwd_full.shape[2])),\n",
    "                                    simulated_fwd_full))\n",
    "\n",
    "    simulated_fwd_full[0,0,:] = spot_rates[0]\n",
    "        \n",
    "    simulated_zeros_full = np.zeros_like(simulated_fwd_full)\n",
    "    for j in range(simulated_fwd_full.shape[1]):\n",
    "        for k in range(simulated_fwd_full.shape[2]):\n",
    "            simulated_zeros_full[j:, j, k] = forwards_to_zeros(simulated_fwd_full[(j+1):, j, k],\n",
    "                                                              simulated_fwd_full[j, j, k])\n",
    "    \n",
    "    print(\"Saving paths...\")\n",
    "    save_object(simulated_zeros_full, save_path)\n",
    "    print(\"Succesfully saved object at: \"+save_path)\n",
    "    return(simulated_zeros_full)\n",
    "\n",
    "\n",
    "def save_object(obj, filename):\n",
    "    with open(filename, 'wb') as output:  # Overwrites any existing file.\n",
    "        pickle.dump(obj, output, pickle.HIGHEST_PROTOCOL)"
   ]
  },
  {
   "cell_type": "code",
   "execution_count": 101,
   "metadata": {},
   "outputs": [
    {
     "name": "stdout",
     "output_type": "stream",
     "text": [
      "Saving paths...\n",
      "Succesfully saved object at: C:\\Users\\nhian\\Dropbox\\My PC (DESKTOP-L6D69LH)\\Documents\\GitHub\\LMM_SABR\\simulation_results\\simulated_zeros_1k.pkl\n"
     ]
    }
   ],
   "source": [
    "simulated_zeros = simulate_paths(no_of_sim  = no_of_sim, steps_per_year = steps_per_year,\n",
    "                              fixing_time_grid = fixing_time_grid, F_0  = F_0, s_0  = s_0,\n",
    "                              epsilon =epsilon, corr_fwd_fwd_full_rank = corr_fwd_fwd_full_rank,\n",
    "                              corr_vol_vol_full_rank = corr_vol_vol_full_rank,\n",
    "                              corr_fwd_vol = corr_fwd_vol, no_of_factors = no_of_factors ,\n",
    "                              beta = beta, tau = tau, params_g = params_g, params_h = params_h, seed = 123, spot_rates = spots,\n",
    "                              save_path = path_results+\"\\\\simulated_zeros_1k.pkl\")"
   ]
  },
  {
   "cell_type": "code",
   "execution_count": null,
   "metadata": {},
   "outputs": [],
   "source": []
  }
 ],
 "metadata": {
  "kernelspec": {
   "display_name": "Python 3",
   "language": "python",
   "name": "python3"
  },
  "language_info": {
   "codemirror_mode": {
    "name": "ipython",
    "version": 3
   },
   "file_extension": ".py",
   "mimetype": "text/x-python",
   "name": "python",
   "nbconvert_exporter": "python",
   "pygments_lexer": "ipython3",
   "version": "3.7.4"
  }
 },
 "nbformat": 4,
 "nbformat_minor": 4
}
